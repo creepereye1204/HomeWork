{
  "cells": [
    {
      "cell_type": "markdown",
      "metadata": {
        "id": "view-in-github",
        "colab_type": "text"
      },
      "source": [
        "<a href=\"https://colab.research.google.com/github/creepereye1204/HomeWork/blob/main/Test.ipynb\" target=\"_parent\"><img src=\"https://colab.research.google.com/assets/colab-badge.svg\" alt=\"Open In Colab\"/></a>"
      ]
    },
    {
      "cell_type": "code",
      "execution_count": null,
      "metadata": {
        "id": "_8DRLu3hSucT"
      },
      "outputs": [],
      "source": [
        "pip install kaggle --upgrade"
      ]
    },
    {
      "cell_type": "code",
      "source": [
        "from sklearn.model_selection import train_test_split"
      ],
      "metadata": {
        "id": "-KvzP6BSF6aP"
      },
      "execution_count": 2,
      "outputs": []
    },
    {
      "cell_type": "code",
      "execution_count": null,
      "metadata": {
        "id": "3U9zUkKSbaE_"
      },
      "outputs": [],
      "source": [
        "from google.colab import files\n",
        "files.upload()"
      ]
    },
    {
      "cell_type": "code",
      "execution_count": 4,
      "metadata": {
        "id": "7McluM2DbfrP"
      },
      "outputs": [],
      "source": [
        "!mkdir -p ~/.kaggle\n",
        "!cp kaggle.json ~/.kaggle/\n",
        "!chmod 600 ~/.kaggle/kaggle.json"
      ]
    },
    {
      "cell_type": "code",
      "execution_count": null,
      "metadata": {
        "id": "KxLBEAC4btDS"
      },
      "outputs": [],
      "source": [
        "!kaggle competitions download -c plant-pathology-2021-fgvc8"
      ]
    },
    {
      "cell_type": "code",
      "source": [
        "import os\n",
        "os.mkdir('/content/train')\n",
        "os.mkdir('/content/test')\n",
        "os.mkdir('/content/eval')"
      ],
      "metadata": {
        "id": "SawXqf39n7FL"
      },
      "execution_count": 6,
      "outputs": []
    },
    {
      "cell_type": "code",
      "source": [
        "!unzip /content/plant-pathology-2021-fgvc8.zip -d /content/"
      ],
      "metadata": {
        "id": "HHw7eFpU6kUy"
      },
      "execution_count": null,
      "outputs": []
    },
    {
      "cell_type": "code",
      "execution_count": 8,
      "metadata": {
        "id": "m1cD9h5iJxYp"
      },
      "outputs": [],
      "source": [
        "import pandas as pd"
      ]
    },
    {
      "cell_type": "code",
      "source": [
        "train=pd.read_csv('/content/train.csv')"
      ],
      "metadata": {
        "id": "Z8kxOk9KIUo7"
      },
      "execution_count": 9,
      "outputs": []
    },
    {
      "cell_type": "code",
      "source": [
        "for dir in ['complex', 'frog_eye_leaf_spot', 'healthy', 'powdery_mildew', 'rust', 'scab']:\n",
        "  os.makedirs('/content/train/'+dir)\n",
        "  os.makedirs('/content/test/'+dir)\n",
        "  os.makedirs('/content/eval/'+dir)"
      ],
      "metadata": {
        "id": "6xRYwZhmIyQ8"
      },
      "execution_count": 10,
      "outputs": []
    },
    {
      "cell_type": "code",
      "source": [
        "new=pd.DataFrame(columns=['image','labels'])\n",
        "for idx,(image,label) in enumerate(train.values):\n",
        "  n=len(label.split())\n",
        "  if n!=1:\n",
        "    cols= ['image','labels']\t\n",
        "    for i in label.split():\n",
        "      add_row = [[image,i]]\t\n",
        "\n",
        "      row_df = pd.DataFrame(data = add_row, columns = cols)\t\n",
        "                            \n",
        "      new = pd.concat([new, row_df], ignore_index = True)\n",
        "    train.drop(labels=idx,axis=0,inplace=True)"
      ],
      "metadata": {
        "id": "ooTy-2mu6N-a"
      },
      "execution_count": 11,
      "outputs": []
    },
    {
      "cell_type": "code",
      "source": [
        "train=pd.concat([new,train],ignore_index=True)"
      ],
      "metadata": {
        "id": "t8L9siZJCaln"
      },
      "execution_count": 12,
      "outputs": []
    },
    {
      "cell_type": "code",
      "source": [
        "train,other=train_test_split(train,  train_size= 0.6, shuffle= True, random_state= 42)\n",
        "test,eval=train_test_split(other,  train_size= 0.5, shuffle= True, random_state= 42)"
      ],
      "metadata": {
        "id": "v02-KbR9JMyD"
      },
      "execution_count": 13,
      "outputs": []
    },
    {
      "cell_type": "code",
      "source": [
        "import shutil\n",
        "def move(data,where):\n",
        "  path='/content/train_images/'\n",
        "  for name,label in data.values:\n",
        "    if os.path.exists(path+name):\n",
        "        shutil.move(path+name,\"/content/\"+where+\"/\"+label+'/'+name)"
      ],
      "metadata": {
        "id": "LviUcpTSS47d"
      },
      "execution_count": 14,
      "outputs": []
    },
    {
      "cell_type": "code",
      "source": [
        "for key,value in {'train':train,'test':test,'eval':eval}.items():\n",
        "  move(value,key)"
      ],
      "metadata": {
        "id": "7MsLSf5RKfX4"
      },
      "execution_count": 15,
      "outputs": []
    },
    {
      "cell_type": "code",
      "source": [
        "train['labels'].isnull().sum()"
      ],
      "metadata": {
        "id": "3R5IWUNCIS0M"
      },
      "execution_count": null,
      "outputs": []
    },
    {
      "cell_type": "code",
      "source": [
        "train['labels'].value_counts()"
      ],
      "metadata": {
        "id": "Lo3SBRBzK3bN"
      },
      "execution_count": null,
      "outputs": []
    },
    {
      "cell_type": "code",
      "source": [
        "import matplotlib.pyplot as plt\n"
      ],
      "metadata": {
        "id": "cmoSO82qOGkM"
      },
      "execution_count": 18,
      "outputs": []
    },
    {
      "cell_type": "code",
      "source": [
        "train['labels'].value_counts().plot(kind='bar')"
      ],
      "metadata": {
        "id": "XWkp5WkHOBK-",
        "colab": {
          "base_uri": "https://localhost:8080/",
          "height": 366
        },
        "outputId": "40a8a2e3-0073-449c-eca7-15729d9b8e21"
      },
      "execution_count": 19,
      "outputs": [
        {
          "output_type": "execute_result",
          "data": {
            "text/plain": [
              "<Axes: >"
            ]
          },
          "metadata": {},
          "execution_count": 19
        },
        {
          "output_type": "display_data",
          "data": {
            "text/plain": [
              "<Figure size 432x288 with 1 Axes>"
            ],
            "image/png": "[encoded data removed]"
          },
          "metadata": {
            "needs_background": "light"
          }
        }
      ]
    },
    {
      "cell_type": "code",
      "source": [
        "len(train)"
      ],
      "metadata": {
        "id": "bbEsiS6KFTl4"
      },
      "execution_count": null,
      "outputs": []
    },
    {
      "cell_type": "code",
      "source": [
        "test"
      ],
      "metadata": {
        "id": "PKZFx24OGY2I",
        "colab": {
          "base_uri": "https://localhost:8080/",
          "height": 423
        },
        "outputId": "a5331c14-ce6c-428c-968c-4ff50b89845b"
      },
      "execution_count": 21,
      "outputs": [
        {
          "output_type": "execute_result",
          "data": {
            "text/plain": [
              "                      image              labels\n",
              "3733   85dab161cf9895a5.jpg             complex\n",
              "1411   bd8ed6d4fa680161.jpg             complex\n",
              "3508   84936b111763f6ab.jpg      powdery_mildew\n",
              "10021  b5e08197d9d6859a.jpg  frog_eye_leaf_spot\n",
              "6350   9e0ba1619bdf4943.jpg      powdery_mildew\n",
              "...                     ...                 ...\n",
              "19485  fc8b609593385e33.jpg  frog_eye_leaf_spot\n",
              "2996   80a2c93fd2d9655d.jpg             healthy\n",
              "10569  bad992af47e26054.jpg             healthy\n",
              "3674   859d3ac6e0bc4fa1.jpg             healthy\n",
              "6356   9e1ec87cda862297.jpg                rust\n",
              "\n",
              "[4037 rows x 2 columns]"
            ],
            "text/html": [
              "\n",
              "  <div id=\"df-7fd5768c-ad8c-4d10-aaff-af8dbaa35965\">\n",
              "    <div class=\"colab-df-container\">\n",
              "      <div>\n",
              "<style scoped>\n",
              "    .dataframe tbody tr th:only-of-type {\n",
              "        vertical-align: middle;\n",
              "    }\n",
              "\n",
              "    .dataframe tbody tr th {\n",
              "        vertical-align: top;\n",
              "    }\n",
              "\n",
              "    .dataframe thead th {\n",
              "        text-align: right;\n",
              "    }\n",
              "</style>\n",
              "<table border=\"1\" class=\"dataframe\">\n",
              "  <thead>\n",
              "    <tr style=\"text-align: right;\">\n",
              "      <th></th>\n",
              "      <th>image</th>\n",
              "      <th>labels</th>\n",
              "    </tr>\n",
              "  </thead>\n",
              "  <tbody>\n",
              "    <tr>\n",
              "      <th>3733</th>\n",
              "      <td>85dab161cf9895a5.jpg</td>\n",
              "      <td>complex</td>\n",
              "    </tr>\n",
              "    <tr>\n",
              "      <th>1411</th>\n",
              "      <td>bd8ed6d4fa680161.jpg</td>\n",
              "      <td>complex</td>\n",
              "    </tr>\n",
              "    <tr>\n",
              "      <th>3508</th>\n",
              "      <td>84936b111763f6ab.jpg</td>\n",
              "      <td>powdery_mildew</td>\n",
              "    </tr>\n",
              "    <tr>\n",
              "      <th>10021</th>\n",
              "      <td>b5e08197d9d6859a.jpg</td>\n",
              "      <td>frog_eye_leaf_spot</td>\n",
              "    </tr>\n",
              "    <tr>\n",
              "      <th>6350</th>\n",
              "      <td>9e0ba1619bdf4943.jpg</td>\n",
              "      <td>powdery_mildew</td>\n",
              "    </tr>\n",
              "    <tr>\n",
              "      <th>...</th>\n",
              "      <td>...</td>\n",
              "      <td>...</td>\n",
              "    </tr>\n",
              "    <tr>\n",
              "      <th>19485</th>\n",
              "      <td>fc8b609593385e33.jpg</td>\n",
              "      <td>frog_eye_leaf_spot</td>\n",
              "    </tr>\n",
              "    <tr>\n",
              "      <th>2996</th>\n",
              "      <td>80a2c93fd2d9655d.jpg</td>\n",
              "      <td>healthy</td>\n",
              "    </tr>\n",
              "    <tr>\n",
              "      <th>10569</th>\n",
              "      <td>bad992af47e26054.jpg</td>\n",
              "      <td>healthy</td>\n",
              "    </tr>\n",
              "    <tr>\n",
              "      <th>3674</th>\n",
              "      <td>859d3ac6e0bc4fa1.jpg</td>\n",
              "      <td>healthy</td>\n",
              "    </tr>\n",
              "    <tr>\n",
              "      <th>6356</th>\n",
              "      <td>9e1ec87cda862297.jpg</td>\n",
              "      <td>rust</td>\n",
              "    </tr>\n",
              "  </tbody>\n",
              "</table>\n",
              "<p>4037 rows × 2 columns</p>\n",
              "</div>\n",
              "      <button class=\"colab-df-convert\" onclick=\"convertToInteractive('df-7fd5768c-ad8c-4d10-aaff-af8dbaa35965')\"\n",
              "              title=\"Convert this dataframe to an interactive table.\"\n",
              "              style=\"display:none;\">\n",
              "        \n",
              "  <svg xmlns=\"http://www.w3.org/2000/svg\" height=\"24px\"viewBox=\"0 0 24 24\"\n",
              "       width=\"24px\">\n",
              "    <path d=\"M0 0h24v24H0V0z\" fill=\"none\"/>\n",
              "    <path d=\"M18.56 5.44l.94 2.06.94-2.06 2.06-.94-2.06-.94-.94-2.06-.94 2.06-2.06.94zm-11 1L8.5 8.5l.94-2.06 2.06-.94-2.06-.94L8.5 2.5l-.94 2.06-2.06.94zm10 10l.94 2.06.94-2.06 2.06-.94-2.06-.94-.94-2.06-.94 2.06-2.06.94z\"/><path d=\"M17.41 7.96l-1.37-1.37c-.4-.4-.92-.59-1.43-.59-.52 0-1.04.2-1.43.59L10.3 9.45l-7.72 7.72c-.78.78-.78 2.05 0 2.83L4 21.41c.39.39.9.59 1.41.59.51 0 1.02-.2 1.41-.59l7.78-7.78 2.81-2.81c.8-.78.8-2.07 0-2.86zM5.41 20L4 18.59l7.72-7.72 1.47 1.35L5.41 20z\"/>\n",
              "  </svg>\n",
              "      </button>\n",
              "      \n",
              "  <style>\n",
              "    .colab-df-container {\n",
              "      display:flex;\n",
              "      flex-wrap:wrap;\n",
              "      gap: 12px;\n",
              "    }\n",
              "\n",
              "    .colab-df-convert {\n",
              "      background-color: #E8F0FE;\n",
              "      border: none;\n",
              "      border-radius: 50%;\n",
              "      cursor: pointer;\n",
              "      display: none;\n",
              "      fill: #1967D2;\n",
              "      height: 32px;\n",
              "      padding: 0 0 0 0;\n",
              "      width: 32px;\n",
              "    }\n",
              "\n",
              "    .colab-df-convert:hover {\n",
              "      background-color: #E2EBFA;\n",
              "      box-shadow: 0px 1px 2px rgba(60, 64, 67, 0.3), 0px 1px 3px 1px rgba(60, 64, 67, 0.15);\n",
              "      fill: #174EA6;\n",
              "    }\n",
              "\n",
              "    [theme=dark] .colab-df-convert {\n",
              "      background-color: #3B4455;\n",
              "      fill: #D2E3FC;\n",
              "    }\n",
              "\n",
              "    [theme=dark] .colab-df-convert:hover {\n",
              "      background-color: #434B5C;\n",
              "      box-shadow: 0px 1px 3px 1px rgba(0, 0, 0, 0.15);\n",
              "      filter: drop-shadow(0px 1px 2px rgba(0, 0, 0, 0.3));\n",
              "      fill: #FFFFFF;\n",
              "    }\n",
              "  </style>\n",
              "\n",
              "      <script>\n",
              "        const buttonEl =\n",
              "          document.querySelector('#df-7fd5768c-ad8c-4d10-aaff-af8dbaa35965 button.colab-df-convert');\n",
              "        buttonEl.style.display =\n",
              "          google.colab.kernel.accessAllowed ? 'block' : 'none';\n",
              "\n",
              "        async function convertToInteractive(key) {\n",
              "          const element = document.querySelector('#df-7fd5768c-ad8c-4d10-aaff-af8dbaa35965');\n",
              "          const dataTable =\n",
              "            await google.colab.kernel.invokeFunction('convertToInteractive',\n",
              "                                                     [key], {});\n",
              "          if (!dataTable) return;\n",
              "\n",
              "          const docLinkHtml = 'Like what you see? Visit the ' +\n",
              "            '<a target=\"_blank\" href=https://colab.research.google.com/notebooks/data_table.ipynb>data table notebook</a>'\n",
              "            + ' to learn more about interactive tables.';\n",
              "          element.innerHTML = '';\n",
              "          dataTable['output_type'] = 'display_data';\n",
              "          await google.colab.output.renderOutput(dataTable, element);\n",
              "          const docLink = document.createElement('div');\n",
              "          docLink.innerHTML = docLinkHtml;\n",
              "          element.appendChild(docLink);\n",
              "        }\n",
              "      </script>\n",
              "    </div>\n",
              "  </div>\n",
              "  "
            ]
          },
          "metadata": {},
          "execution_count": 21
        }
      ]
    },
    {
      "cell_type": "code",
      "source": [
        "eval"
      ],
      "metadata": {
        "id": "RZfLF66UIqSD"
      },
      "execution_count": null,
      "outputs": []
    },
    {
      "cell_type": "code",
      "source": [
        "import torch\n",
        "import torch.nn as nn\n",
        "import torch.nn.functional as F\n",
        "import torchvision.datasets as datasets\n",
        "import torchvision.transforms as transforms\n",
        "from torch.utils.data import DataLoader\n",
        "import torch.optim as optim\n",
        "import matplotlib.pyplot as plt\n",
        "import numpy as np"
      ],
      "metadata": {
        "id": "jdueSyqGI6l9"
      },
      "execution_count": 23,
      "outputs": []
    },
    {
      "cell_type": "code",
      "source": [
        "nc = 3\n",
        "nz = 100\n",
        "ngf = 64\n",
        "ndf = 64\n",
        "num_epochs = 5\n",
        "lr = 0.0002\n",
        "beta1 = 0.5\n",
        "ngpu = 1"
      ],
      "metadata": {
        "id": "GQffMnAgQ66I"
      },
      "execution_count": 24,
      "outputs": []
    },
    {
      "cell_type": "code",
      "source": [
        "if torch.cuda.is_available():\n",
        "  device=torch.device('cuda')\n",
        "\n",
        "trans_train=transforms.Compose([\n",
        "    transforms.Resize((224,224)),\n",
        "    transforms.RandomHorizontalFlip(),\n",
        "    transforms.ToTensor(),\n",
        "    transforms.Normalize([0.5,0.5,0.5],[0.5,0.5,0.5])\n",
        "])\n",
        "trans_test=transforms.Compose([\n",
        "    transforms.Resize((224,224)),\n",
        "    transforms.ToTensor(),\n",
        "    transforms.Normalize([0.5,0.5,0.5],[0.5,0.5,0.5])\n",
        "])\n",
        "trans_eval=transforms.Compose([\n",
        "    transforms.Resize((224,224)),\n",
        "    transforms.ToTensor(),\n",
        "    transforms.Normalize([0.5,0.5,0.5],[0.5,0.5,0.5])\n",
        "])\n",
        "\n",
        "train_data = datasets.ImageFolder(root='/content/train', \n",
        "                                    transform=trans_train,\n",
        "                                   )\n",
        "train_loader=DataLoader(dataset=train_data,batch_size=32,shuffle=True,drop_last=True)\n",
        "\n",
        "test_data = datasets.ImageFolder(root='/content/test', \n",
        "                                    transform=trans_test\n",
        "                                   )\n",
        "test_loader=DataLoader(dataset=test_data,batch_size=32,shuffle=True,drop_last=True)\n",
        "\n",
        "eval_data = datasets.ImageFolder(root='/content/eval', \n",
        "                                    transform=trans_eval\n",
        "                                   )\n",
        "eval_loader=DataLoader(dataset=eval_data,batch_size=32,shuffle=True,drop_last=True)"
      ],
      "metadata": {
        "id": "IbjduwUfQ895"
      },
      "execution_count": 25,
      "outputs": []
    },
    {
      "cell_type": "code",
      "source": [
        "import matplotlib.pyplot as plt\n",
        "import numpy as np\n",
        "import torchvision.utils as vutils\n",
        "real_batch=next(iter(train_loader))"
      ],
      "metadata": {
        "id": "2q5AMfA3RBle"
      },
      "execution_count": 26,
      "outputs": []
    },
    {
      "cell_type": "code",
      "source": [
        "plt.figure(figsize=(10,10))\n",
        "plt.axis('off')\n",
        "plt.title('Training Images')\n",
        "plt.imshow(np.transpose(vutils.make_grid(real_batch[0],padding=2,normalize=True).cpu(),(1,2,0)));"
      ],
      "metadata": {
        "id": "oaMx852FRRa4"
      },
      "execution_count": null,
      "outputs": []
    },
    {
      "cell_type": "code",
      "source": [
        "\n",
        "num_class=6\n",
        "class BasicBlock(nn.Module):\n",
        "    def __init__(self, in_planes, planes, stride = 1):\n",
        "        super(BasicBlock, self).__init__()\n",
        "        self.conv1 = nn.Conv2d(in_planes, planes, kernel_size = 3, stride = stride, padding = 1, bias = False)\n",
        "        self.bn1 = nn.BatchNorm2d(planes)\n",
        "        self.conv2 = nn.Conv2d(planes, planes, kernel_size = 3, stride = 1, padding = 1, bias = False)\n",
        "        self.bn2 = nn.BatchNorm2d(planes)\n",
        "        \n",
        "        self.shortcut = nn.Sequential()\n",
        "        if stride != 1 or in_planes != planes:\n",
        "            self.shortcut = nn.Sequential(\n",
        "                nn.Conv2d(in_planes, planes, kernel_size = 1, stride = stride, bias = False),\n",
        "                nn.BatchNorm2d(planes))\n",
        "    \n",
        "    def forward(self, x):\n",
        "        out = F.relu(self.bn1(self.conv1(x)))\n",
        "        out = self.bn2(self.conv2(out))\n",
        "        out += self.shortcut(x)\n",
        "        out = F.relu(out)\n",
        "        return out\n",
        "    \n",
        "class ResNet(nn.Module):\n",
        "    def __init__(self, num_classes = 10):\n",
        "        super(ResNet, self).__init__()\n",
        "        self.in_planes = 16\n",
        "        \n",
        "        self.conv1 = nn.Conv2d(3, 16, kernel_size = 3, stride = 1, padding = 1, bias = False)\n",
        "        self.bn1 = nn.BatchNorm2d(16)\n",
        "        self.layer1 = self._make_layer(16, 2, stride = 1)\n",
        "        self.layer2 = self._make_layer(32, 2, stride = 2)\n",
        "        self.layer3 = self._make_layer(64, 2, stride = 2)\n",
        "        self.linear = nn.Linear(3136, num_classes)\n",
        "        \n",
        "    def _make_layer(self, planes, num_blocks, stride):\n",
        "        strides = [stride] + [1] * (num_blocks  - 1)\n",
        "        layers = []\n",
        "        for stride in strides:\n",
        "            layers.append(BasicBlock(self.in_planes, planes, stride))\n",
        "            self.in_planes = planes\n",
        "        return nn.Sequential(*layers)\n",
        "    \n",
        "    def forward(self, x):\n",
        "        out = F.relu(self.bn1(self.conv1(x)))\n",
        "        out = self.layer1(out)\n",
        "        out = self.layer2(out)\n",
        "        out = self.layer3(out)\n",
        "        out = F.avg_pool2d(out, 8)\n",
        "        out = out.view(out.size(0), -1)\n",
        "        out = self.linear(out)\n",
        "        return out"
      ],
      "metadata": {
        "id": "A7i5VwEnTjs0"
      },
      "execution_count": 28,
      "outputs": []
    },
    {
      "cell_type": "code",
      "source": [
        "R=ResNet().to(device)"
      ],
      "metadata": {
        "id": "HUxY5gGUUwfi"
      },
      "execution_count": 29,
      "outputs": []
    },
    {
      "cell_type": "code",
      "source": [
        "if os.path.exists('/content/drive/MyDrive/Plant_Pathology.pth'):\n",
        "  R.load_state_dict(torch.load('/content/drive/MyDrive/Plant_Pathology.pth'))"
      ],
      "metadata": {
        "id": "8933Co2I0f-1"
      },
      "execution_count": 36,
      "outputs": []
    },
    {
      "cell_type": "code",
      "source": [
        "criterion=nn.CrossEntropyLoss()"
      ],
      "metadata": {
        "id": "Ke-jwiLLU0tX"
      },
      "execution_count": 30,
      "outputs": []
    },
    {
      "cell_type": "code",
      "source": [
        "import torch.optim as optim\n",
        "optim=optim.Adam(R.parameters(),lr=0.001)"
      ],
      "metadata": {
        "id": "T4yBcI-5U3Au"
      },
      "execution_count": 31,
      "outputs": []
    },
    {
      "cell_type": "code",
      "source": [
        "def train(R,optim,cri):\n",
        "  R.train()\n",
        "  for epoch in range(3):\n",
        "    for index,sample in enumerate(train_loader):\n",
        "      x,y=sample\n",
        "      X=x.to(device)\n",
        "      Y=y.to(device)\n",
        "      out=R(X)\n",
        "      cost=criterion(out,Y)\n",
        "      optim.zero_grad()\n",
        "      cost.backward()\n",
        "      optim.step()\n",
        "      if index%10==0:\n",
        "        print('epoch {} , cost: {:.4f}'.format(epoch,cost.item()))\n",
        "        test(R,cri)\n",
        "      torch.save(R.state_dict(),'/content/drive/MyDrive/Plant_Pathology.pth')"
      ],
      "metadata": {
        "id": "2RtINOV9U5Ec"
      },
      "execution_count": 37,
      "outputs": []
    },
    {
      "cell_type": "code",
      "source": [
        "def test(R,cri):\n",
        "  R.eval()\n",
        "  correct=0\n",
        "  loss_avg=0\n",
        "  with torch.no_grad():\n",
        "    for index,sample in enumerate(test_loader):\n",
        "      x,y=sample\n",
        "      X=x.to(device)\n",
        "      Y=y.to(device)\n",
        "      out=R(X)\n",
        "      cost=criterion(out,Y)\n",
        "      loss_avg+=cost.item()\n",
        "      prediction=out.max(1,keepdim=True)[1]\n",
        "      correct+=prediction.eq(Y.view_as(prediction)).sum().item()\n",
        "      \n",
        "\n",
        "\n",
        "  test_accuracy=100*correct/len(test_loader.dataset)\n",
        "  loss_avg/=len(test_loader.dataset)\n",
        "  print('cost: {:.2f}%'.format(test_accuracy))\n",
        "  print('loss_avg:',loss_avg)"
      ],
      "metadata": {
        "id": "10aGiYAPgLC-"
      },
      "execution_count": 38,
      "outputs": []
    },
    {
      "cell_type": "code",
      "source": [
        "train(R,optim,criterion)"
      ],
      "metadata": {
        "id": "0wfWpcTuU63i",
        "colab": {
          "base_uri": "https://localhost:8080/"
        },
        "outputId": "e56d1c37-302a-4530-a97b-fec8b9217b0a"
      },
      "execution_count": null,
      "outputs": [
        {
          "output_type": "stream",
          "name": "stdout",
          "text": [
            "epoch 0 , cost: 4.8134\n",
            "cost: 22.35%\n",
            "loss_avg: 0.05232854379033898\n",
            "epoch 0 , cost: 1.9113\n",
            "cost: 25.96%\n",
            "loss_avg: 0.0526877119624513\n",
            "epoch 0 , cost: 1.6772\n",
            "cost: 30.64%\n",
            "loss_avg: 0.051140268643697105\n",
            "epoch 0 , cost: 1.5237\n"
          ]
        }
      ]
    },
    {
      "cell_type": "code",
      "source": [],
      "metadata": {
        "id": "I6dMjIe3Yjyt"
      },
      "execution_count": null,
      "outputs": []
    }
  ],
  "metadata": {
    "colab": {
      "provenance": [],
      "mount_file_id": "1xmPTzZxo48hXsgLz_tIdGFeW25ODpl1A",
      "authorship_tag": "ABX9TyPIxoTl43EqUy17W/0aXhO9",
      "include_colab_link": true
    },
    "kernelspec": {
      "display_name": "Python 3",
      "name": "python3"
    },
    "language_info": {
      "name": "python"
    },
    "gpuClass": "standard",
    "accelerator": "GPU"
  },
  "nbformat": 4,
  "nbformat_minor": 0
}