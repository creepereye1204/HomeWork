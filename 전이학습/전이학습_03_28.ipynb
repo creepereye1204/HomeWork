{
  "cells": [
    {
      "cell_type": "markdown",
      "metadata": {
        "id": "view-in-github",
        "colab_type": "text"
      },
      "source": [
        "<a href=\"https://colab.research.google.com/github/creepereye1204/HomeWork/blob/main/%EC%A0%84%EC%9D%B4%ED%95%99%EC%8A%B5/%EC%A0%84%EC%9D%B4%ED%95%99%EC%8A%B5_03_28.ipynb\" target=\"_parent\"><img src=\"https://colab.research.google.com/assets/colab-badge.svg\" alt=\"Open In Colab\"/></a>"
      ]
    },
    {
      "cell_type": "code",
      "execution_count": null,
      "metadata": {
        "id": "_8DRLu3hSucT"
      },
      "outputs": [],
      "source": [
        "pip install kaggle --upgrade"
      ]
    },
    {
      "cell_type": "code",
      "source": [
        "# function ClickConnect(){\n",
        "#    console.log(\"Working\"); \n",
        "#    document.querySelector(\"colab-toolbar-button\").click() \n",
        "# } setInterval(ClickConnect, 1800000)"
      ],
      "metadata": {
        "id": "cMezlkIscF5C"
      },
      "execution_count": null,
      "outputs": []
    },
    {
      "cell_type": "code",
      "source": [
        "\n",
        "from sklearn.model_selection import train_test_split"
      ],
      "metadata": {
        "id": "-KvzP6BSF6aP"
      },
      "execution_count": 2,
      "outputs": []
    },
    {
      "cell_type": "code",
      "source": [
        "\n",
        "from google.colab import files\n",
        "files.upload()"
      ],
      "metadata": {
        "id": "QyuqQBKJIC4e"
      },
      "execution_count": null,
      "outputs": []
    },
    {
      "cell_type": "code",
      "source": [
        "from google.colab import drive\n",
        "drive.mount('/content/drive')"
      ],
      "metadata": {
        "id": "FV5dSDtSKcXI"
      },
      "execution_count": null,
      "outputs": []
    },
    {
      "cell_type": "code",
      "execution_count": 5,
      "metadata": {
        "id": "7McluM2DbfrP"
      },
      "outputs": [],
      "source": [
        "!mkdir -p ~/.kaggle\n",
        "!cp kaggle.json ~/.kaggle/\n",
        "!chmod 600 ~/.kaggle/kaggle.json"
      ]
    },
    {
      "cell_type": "code",
      "execution_count": null,
      "metadata": {
        "id": "KxLBEAC4btDS"
      },
      "outputs": [],
      "source": [
        "!kaggle competitions download -c plant-pathology-2021-fgvc8"
      ]
    },
    {
      "cell_type": "code",
      "source": [
        "import os\n",
        "os.mkdir('/content/train')\n",
        "os.mkdir('/content/test')\n",
        "os.mkdir('/content/eval')"
      ],
      "metadata": {
        "id": "SawXqf39n7FL"
      },
      "execution_count": 7,
      "outputs": []
    },
    {
      "cell_type": "code",
      "source": [
        "!unzip /content/plant-pathology-2021-fgvc8.zip -d /content/"
      ],
      "metadata": {
        "id": "HHw7eFpU6kUy"
      },
      "execution_count": null,
      "outputs": []
    },
    {
      "cell_type": "code",
      "execution_count": 9,
      "metadata": {
        "id": "m1cD9h5iJxYp"
      },
      "outputs": [],
      "source": [
        "import pandas as pd"
      ]
    },
    {
      "cell_type": "code",
      "source": [
        "train=pd.read_csv('/content/train.csv')"
      ],
      "metadata": {
        "id": "Z8kxOk9KIUo7"
      },
      "execution_count": 10,
      "outputs": []
    },
    {
      "cell_type": "code",
      "source": [
        "for dir in ['complex', 'frog_eye_leaf_spot', 'healthy', 'powdery_mildew', 'rust', 'scab']:\n",
        "  os.makedirs('/content/train/'+dir)\n",
        "  os.makedirs('/content/test/'+dir)\n",
        "  os.makedirs('/content/eval/'+dir)"
      ],
      "metadata": {
        "id": "6xRYwZhmIyQ8"
      },
      "execution_count": 11,
      "outputs": []
    },
    {
      "cell_type": "code",
      "source": [
        "new=pd.DataFrame(columns=['image','labels'])\n",
        "for idx,(image,label) in enumerate(train.values):\n",
        "  n=len(label.split())\n",
        "  if n!=1:\n",
        "    cols= ['image','labels']\t\n",
        "    for i in label.split():\n",
        "      add_row = [[image,i]]\t\n",
        "\n",
        "      row_df = pd.DataFrame(data = add_row, columns = cols)\t\n",
        "                            \n",
        "      new = pd.concat([new, row_df], ignore_index = True)\n",
        "    train.drop(labels=idx,axis=0,inplace=True)"
      ],
      "metadata": {
        "id": "ooTy-2mu6N-a"
      },
      "execution_count": 12,
      "outputs": []
    },
    {
      "cell_type": "code",
      "source": [
        "train=pd.concat([new,train],ignore_index=True)"
      ],
      "metadata": {
        "id": "t8L9siZJCaln"
      },
      "execution_count": 13,
      "outputs": []
    },
    {
      "cell_type": "code",
      "source": [
        "train,other=train_test_split(train,  train_size= 0.6, shuffle= True)\n",
        "test,eval=train_test_split(other,  train_size= 0.5, shuffle= True)"
      ],
      "metadata": {
        "id": "v02-KbR9JMyD"
      },
      "execution_count": 14,
      "outputs": []
    },
    {
      "cell_type": "code",
      "source": [
        "import shutil\n",
        "def move(data,where):\n",
        "  path='/content/train_images/'\n",
        "  for name,label in data.values:\n",
        "    if os.path.exists(path+name):\n",
        "        shutil.move(path+name,\"/content/\"+where+\"/\"+label+'/'+name)"
      ],
      "metadata": {
        "id": "LviUcpTSS47d"
      },
      "execution_count": 15,
      "outputs": []
    },
    {
      "cell_type": "code",
      "source": [
        "for key,value in {'train':train,'test':test,'eval':eval}.items():\n",
        "  move(value,key)"
      ],
      "metadata": {
        "id": "7MsLSf5RKfX4"
      },
      "execution_count": 16,
      "outputs": []
    },
    {
      "cell_type": "code",
      "source": [
        "train['labels'].isnull().sum()"
      ],
      "metadata": {
        "id": "3R5IWUNCIS0M"
      },
      "execution_count": null,
      "outputs": []
    },
    {
      "cell_type": "code",
      "source": [
        "train['labels'].value_counts()"
      ],
      "metadata": {
        "id": "Lo3SBRBzK3bN"
      },
      "execution_count": null,
      "outputs": []
    },
    {
      "cell_type": "code",
      "source": [
        "import matplotlib.pyplot as plt\n"
      ],
      "metadata": {
        "id": "cmoSO82qOGkM"
      },
      "execution_count": 19,
      "outputs": []
    },
    {
      "cell_type": "code",
      "source": [
        "train['labels'].value_counts().plot(kind='bar')"
      ],
      "metadata": {
        "id": "XWkp5WkHOBK-"
      },
      "execution_count": null,
      "outputs": []
    },
    {
      "cell_type": "code",
      "source": [
        "len(train)"
      ],
      "metadata": {
        "id": "bbEsiS6KFTl4"
      },
      "execution_count": null,
      "outputs": []
    },
    {
      "cell_type": "code",
      "source": [
        "test"
      ],
      "metadata": {
        "id": "PKZFx24OGY2I"
      },
      "execution_count": null,
      "outputs": []
    },
    {
      "cell_type": "code",
      "source": [
        "eval"
      ],
      "metadata": {
        "id": "RZfLF66UIqSD"
      },
      "execution_count": null,
      "outputs": []
    },
    {
      "cell_type": "code",
      "source": [
        "import torch\n",
        "import torch.nn as nn\n",
        "import torch.nn.functional as F\n",
        "import torchvision.datasets as datasets\n",
        "import torchvision.transforms as transforms\n",
        "from torch.utils.data import DataLoader\n",
        "import torch.optim as optim\n",
        "import matplotlib.pyplot as plt\n",
        "import numpy as np"
      ],
      "metadata": {
        "id": "jdueSyqGI6l9"
      },
      "execution_count": 24,
      "outputs": []
    },
    {
      "cell_type": "code",
      "source": [
        "nc = 3\n",
        "nz = 100\n",
        "ngf = 64\n",
        "ndf = 64\n",
        "num_epochs = 5\n",
        "lr = 0.0002\n",
        "beta1 = 0.5\n",
        "ngpu = 1"
      ],
      "metadata": {
        "id": "GQffMnAgQ66I"
      },
      "execution_count": 25,
      "outputs": []
    },
    {
      "cell_type": "code",
      "source": [
        "if torch.cuda.is_available():\n",
        "  device=torch.device('cuda')\n",
        "\n",
        "trans_train=transforms.Compose([\n",
        "    transforms.Resize((224,224)),\n",
        "    transforms.RandomHorizontalFlip(),\n",
        "    transforms.ToTensor(),\n",
        "    transforms.Normalize([0.485, 0.456, 0.406],[0.229, 0.224, 0.225])\n",
        "])\n",
        "trans_test=transforms.Compose([\n",
        "    transforms.Resize((224,224)),\n",
        "    transforms.ToTensor(),\n",
        "    transforms.Normalize([0.485, 0.456, 0.406],[0.229, 0.224, 0.225])\n",
        "])\n",
        "trans_eval=transforms.Compose([\n",
        "    transforms.Resize((224,224)),\n",
        "    transforms.ToTensor(),\n",
        "    transforms.Normalize([0.485, 0.456, 0.406],[0.229, 0.224, 0.225])\n",
        "])\n",
        "\n",
        "train_data = datasets.ImageFolder(root='/content/train', \n",
        "                                    transform=trans_train,\n",
        "                                   )\n",
        "train_loader=DataLoader(dataset=train_data,batch_size=32,shuffle=True,drop_last=True,)\n",
        "\n",
        "test_data = datasets.ImageFolder(root='/content/test', \n",
        "                                    transform=trans_test\n",
        "                                   )\n",
        "test_loader=DataLoader(dataset=test_data,batch_size=32,shuffle=True,drop_last=True)\n",
        "\n",
        "eval_data = datasets.ImageFolder(root='/content/eval', \n",
        "                                    transform=trans_eval\n",
        "                                   )\n",
        "eval_loader=DataLoader(dataset=eval_data,batch_size=32,shuffle=True,drop_last=True)"
      ],
      "metadata": {
        "id": "IbjduwUfQ895"
      },
      "execution_count": 26,
      "outputs": []
    },
    {
      "cell_type": "code",
      "source": [
        "import matplotlib.pyplot as plt\n",
        "import numpy as np\n",
        "import torchvision.utils as vutils\n",
        "real_batch=next(iter(train_loader))"
      ],
      "metadata": {
        "id": "2q5AMfA3RBle"
      },
      "execution_count": 27,
      "outputs": []
    },
    {
      "cell_type": "code",
      "source": [
        "plt.figure(figsize=(10,10))\n",
        "plt.axis('off')\n",
        "plt.title('Training Images')\n",
        "plt.imshow(np.transpose(vutils.make_grid(real_batch[0],padding=2,normalize=True).cpu(),(1,2,0)));"
      ],
      "metadata": {
        "id": "oaMx852FRRa4"
      },
      "execution_count": null,
      "outputs": []
    },
    {
      "cell_type": "code",
      "source": [
        "from torchvision import models\n",
        "import torch.optim as optim"
      ],
      "metadata": {
        "id": "0mocTXnn-PHs"
      },
      "execution_count": 43,
      "outputs": []
    },
    {
      "cell_type": "code",
      "source": [
        "model_ft = models.resnet50(pretrained=True)\n",
        "num_ftrs = model_ft.fc.in_features\n",
        "model_ft.fc = nn.Linear(num_ftrs, 6)\n",
        "model_ft = model_ft.to(device)\n",
        "criterion = nn.CrossEntropyLoss()\n",
        "optim = optim.Adam(model_ft.parameters(), lr=0.0000001)"
      ],
      "metadata": {
        "id": "JXva5k58-NmO"
      },
      "execution_count": 44,
      "outputs": []
    },
    {
      "cell_type": "code",
      "source": [
        "model_ft.load_state_dict(torch.load('/content/drive/MyDrive/Plant_Pathology_lr_changed_new.pth'))"
      ],
      "metadata": {
        "id": "xgHnpckSR1Be"
      },
      "execution_count": null,
      "outputs": []
    },
    {
      "cell_type": "code",
      "source": [
        "def train(R,optim,cri):\n",
        " \n",
        "  for epoch in range(3):\n",
        "    for index,sample in enumerate(train_loader):\n",
        "      x,y=sample\n",
        "      X=x.to(device)\n",
        "      Y=y.to(device)\n",
        "      out=R(X)\n",
        "      cost=criterion(out,Y)\n",
        "      optim.zero_grad()\n",
        "      cost.backward()\n",
        "      optim.step()\n",
        "      if index%10==0:\n",
        "        print('epoch {} , cost: {:.4f}'.format(epoch,cost.item()))\n",
        "        test(R,cri)\n",
        "        R.train()\n",
        "      torch.save(R.state_dict(),'/content/drive/MyDrive/Plant_Pathology_lr_changed_new.pth')"
      ],
      "metadata": {
        "id": "2RtINOV9U5Ec"
      },
      "execution_count": 46,
      "outputs": []
    },
    {
      "cell_type": "code",
      "source": [
        "def test(R,cri):\n",
        "  R.eval()\n",
        "  correct=0\n",
        "  loss_avg=0\n",
        "  with torch.no_grad():\n",
        "    for index,sample in enumerate(test_loader):\n",
        "      x,y=sample\n",
        "      X=x.to(device)\n",
        "      Y=y.to(device)\n",
        "      out=R(X)\n",
        "      cost=criterion(out,Y)\n",
        "      loss_avg+=cost.item()\n",
        "      prediction=out.max(1,keepdim=True)[1]\n",
        "      correct+=prediction.eq(Y.view_as(prediction)).sum().item()\n",
        "      \n",
        "\n",
        "\n",
        "  test_accuracy=100*correct/len(test_loader.dataset)\n",
        "  loss_avg/=len(test_loader.dataset)\n",
        "  print('cost: {:.2f}%'.format(test_accuracy))\n",
        "  print('loss_avg:',loss_avg)"
      ],
      "metadata": {
        "id": "10aGiYAPgLC-"
      },
      "execution_count": 47,
      "outputs": []
    },
    {
      "cell_type": "code",
      "source": [
        "train(model_ft,optim,criterion)"
      ],
      "metadata": {
        "id": "0wfWpcTuU63i"
      },
      "execution_count": null,
      "outputs": []
    }
  ],
  "metadata": {
    "colab": {
      "provenance": [],
      "include_colab_link": true
    },
    "kernelspec": {
      "display_name": "Python 3",
      "name": "python3"
    },
    "language_info": {
      "name": "python"
    },
    "gpuClass": "standard",
    "accelerator": "GPU"
  },
  "nbformat": 4,
  "nbformat_minor": 0
}