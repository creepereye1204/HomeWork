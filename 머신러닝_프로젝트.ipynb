{
 "cells": [
  {
   "cell_type": "code",
   "execution_count": null,
   "metadata": {},
   "outputs": [],
   "source": [
    "!pip install -U scikit-learn"
   ]
  },
  {
   "cell_type": "code",
   "execution_count": null,
   "metadata": {},
   "outputs": [],
   "source": [
    "!pip install  plotly"
   ]
  },
  {
   "cell_type": "code",
   "execution_count": null,
   "metadata": {},
   "outputs": [],
   "source": [
    "import numpy as np\n",
    "import pandas as pd\n",
    "import tensorflow as tf\n",
    "import tensorflow.keras.layers as L\n",
    "from tensorflow.keras.models import Model\n",
    "import matplotlib.pyplot as plt\n",
    "from sklearn.utils import shuffle\n",
    "from sklearn.model_selection import train_test_split\n",
    "import plotly.graph_objects as go\n",
    "import tensorflow.keras.optimizers.schedules as schedules"
   ]
  },
  {
   "cell_type": "code",
   "execution_count": null,
   "metadata": {},
   "outputs": [],
   "source": [
    "epochs=30\n",
    "rootPath=\"../input/plant-pathology-2020-fgvc7/\"\n",
    "images= \"images/\"\n",
    "test= \"test.csv\"\n",
    "train = \"train.csv\"\n",
    "result = \"sample_submission.csv\"\n",
    "\n",
    "submission = pd.read_csv(rootPath+result)\n",
    "testData = pd.read_csv(rootPath+test)\n",
    "trainData = pd.read_csv(rootPath+train)"
   ]
  },
  {
   "cell_type": "code",
   "execution_count": null,
   "metadata": {},
   "outputs": [],
   "source": [
    "def path(st):\n",
    "    return rootPath + '/images/' + st + '.jpg'\n",
    "\n",
    "testPaths = testData.image_id.apply(path).values\n",
    "trainPaths = trainData.image_id.apply(path).values\n",
    "\n",
    "trainLabels = np.float32(trainData.loc[:, 'healthy':'scab'].values)\n",
    "trainPaths, validPaths, trainLabels, validLabels =train_test_split(trainPaths, trainLabels, test_size=0.15)"
   ]
  },
  {
   "cell_type": "code",
   "execution_count": null,
   "metadata": {},
   "outputs": [],
   "source": [
    "def dataPreprocessing(filename, label=None, image_size=(512, 512)):\n",
    "    image = tf.io.read_file(filename)\n",
    "    image = tf.image.decode_jpeg(image, channels=3)\n",
    "    image = tf.cast(image, tf.float32) / 255.0\n",
    "    image = tf.image.resize(image, image_size)\n",
    "    if label is None:\n",
    "        return image\n",
    "    return image, label\n",
    "    \n",
    "\n",
    "def dataAugment(image, label=None):\n",
    "    image = tf.image.random_flip_left_right(image)\n",
    "    image = tf.image.random_flip_up_down(image)\n",
    "    if label is None:    \n",
    "        return image\n",
    "    return image, label"
   ]
  },
  {
   "cell_type": "code",
   "execution_count": null,
   "metadata": {},
   "outputs": [],
   "source": [
    "AUTO = tf.data.experimental.AUTOTUNE\n",
    "tpu = tf.distribute.cluster_resolver.TPUClusterResolver()\n",
    "\n",
    "tf.config.experimental_connect_to_cluster(tpu)\n",
    "tf.tpu.experimental.initialize_tpu_system(tpu)\n",
    "strategy = tf.distribute.experimental.TPUStrategy(tpu)\n",
    "\n",
    "batchSize = 16 * strategy.num_replicas_in_sync"
   ]
  },
  {
   "cell_type": "code",
   "execution_count": null,
   "metadata": {},
   "outputs": [],
   "source": [
    "trainDataset = (\n",
    "    tf.data.Dataset\n",
    "    .from_tensor_slices((trainPaths, trainLabels))\n",
    "    .map(dataPreprocessing, num_parallel_calls=AUTO)\n",
    "    .map(dataAugment, num_parallel_calls=AUTO)\n",
    "    .repeat()\n",
    "    .shuffle(512)\n",
    "    .batch(batchSize)\n",
    "    .prefetch(AUTO)\n",
    ")\n",
    "\n",
    "validDataset = (\n",
    "    tf.data.Dataset\n",
    "    .from_tensor_slices((validPaths, validLabels))\n",
    "    .map(dataPreprocessing, num_parallel_calls=AUTO)\n",
    "    .batch(batchSize)\n",
    "    .cache()\n",
    "    .prefetch(AUTO)\n",
    ")\n",
    "\n",
    "testDataset = (\n",
    "    tf.data.Dataset\n",
    "    .from_tensor_slices(testPaths)\n",
    "    .map(dataPreprocessing, num_parallel_calls=AUTO)\n",
    "    .batch(batchSize)\n",
    ")\n"
   ]
  },
  {
   "cell_type": "code",
   "execution_count": null,
   "metadata": {},
   "outputs": [],
   "source": [
    "from tensorflow.keras.models import clone_model\n",
    "class Combination():\n",
    "    \n",
    "    def __init__(self):\n",
    "        self.model=None\n",
    "        self.optimizer=None\n",
    "    \n",
    "    def setModel(self,Model):\n",
    "        model=Model\n",
    "        self.model=model.getModel()\n",
    "        print(self.model.summary())\n",
    "    \n",
    "    def setOptimizer(self,Optimizer):\n",
    "        \n",
    "        self.optimizer=Optimizer\n",
    "        print(self.optimizer)\n",
    "    \n",
    "    \n",
    "        \n",
    "        \n",
    "    \n",
    "    def onLearning(self,epochs=30):\n",
    "        \n",
    "        with strategy.scope():\n",
    "        \n",
    "\n",
    "\n",
    "            \n",
    "            self.model.compile(optimizer=self.optimizer,\n",
    "                          loss = 'categorical_crossentropy',\n",
    "                          metrics=['categorical_accuracy'])\n",
    "        \n",
    "        stepPerEpoch = trainLabels.shape[0] // batchSize\n",
    "        #lrSchedule = tf.keras.callbacks.LearningRateScheduler(lrfn, verbose=1)\n",
    "        history = self.model.fit(\n",
    "                    trainDataset,\n",
    "                    epochs=epochs,\n",
    "                    #callbacks=[lrSchedule],\n",
    "                    steps_per_epoch=stepPerEpoch,\n",
    "                    validation_data=validDataset)\n",
    "        return history"
   ]
  },
  {
   "cell_type": "code",
   "execution_count": null,
   "metadata": {},
   "outputs": [],
   "source": [
    "class Model:\n",
    "    def __init__(self):\n",
    "        pass\n",
    "    def getModel():\n",
    "        pass"
   ]
  },
  {
   "cell_type": "code",
   "execution_count": null,
   "metadata": {},
   "outputs": [],
   "source": [
    "class Optimizer:\n",
    "    def __init__(self):\n",
    "        pass\n",
    "    def getOptimizer():\n",
    "        pass"
   ]
  },
  {
   "cell_type": "code",
   "execution_count": null,
   "metadata": {},
   "outputs": [],
   "source": [
    "from tensorflow.keras.applications import VGG16\n",
    "from tensorflow.keras.applications import VGG19\n",
    "from tensorflow.keras.applications import ResNet50\n",
    "from tensorflow.keras.applications import ResNet101\n",
    "from tensorflow.keras.applications import ResNet152\n",
    "from tensorflow.keras.applications import ResNet50V2\n",
    "from tensorflow.keras.applications import ResNet101V2\n",
    "from tensorflow.keras.applications import ResNet152V2"
   ]
  },
  {
   "cell_type": "code",
   "execution_count": null,
   "metadata": {},
   "outputs": [],
   "source": [
    "class Vgg16(Model):\n",
    "    def __init__(self):\n",
    "        with strategy.scope():    \n",
    "            self.Model=tf.keras.Sequential([VGG16(input_shape=(512, 512, 3),\n",
    "                                                    weights='imagenet',\n",
    "                                                    include_top=False),\n",
    "                                        L.GlobalAveragePooling2D(),\n",
    "                                        L.Dropout(0.2),\n",
    "                                        L.Dense(trainLabels.shape[1],\n",
    "                                                activation='softmax')])\n",
    "        \n",
    "    def getModel(self):\n",
    "        return self.Model\n",
    "    "
   ]
  },
  {
   "cell_type": "code",
   "execution_count": null,
   "metadata": {},
   "outputs": [],
   "source": [
    "class Vgg19(Model):\n",
    "    def __init__(self):\n",
    "        with strategy.scope():    \n",
    "            self.Model=tf.keras.Sequential([VGG19(input_shape=(512, 512, 3),\n",
    "                                                    weights='imagenet',\n",
    "                                                    include_top=False),\n",
    "                                        L.GlobalAveragePooling2D(),\n",
    "                                        L.Dropout(0.2),\n",
    "                                        L.Dense(trainLabels.shape[1],\n",
    "                                                activation='softmax')])\n",
    "        \n",
    "    def getModel(self):\n",
    "        return self.Model\n",
    "    "
   ]
  },
  {
   "cell_type": "code",
   "execution_count": null,
   "metadata": {},
   "outputs": [],
   "source": [
    "class Resnet50(Model):\n",
    "    def __init__(self):\n",
    "        with strategy.scope():    \n",
    "            self.Model=tf.keras.Sequential([ResNet50(input_shape=(512, 512, 3),\n",
    "                                                    weights='imagenet',\n",
    "                                                    include_top=False),\n",
    "                                        L.GlobalAveragePooling2D(),\n",
    "                                        L.Dropout(0.2),\n",
    "                                        L.Dense(trainLabels.shape[1],\n",
    "                                                activation='softmax')])\n",
    "        \n",
    "    def getModel(self):\n",
    "        return self.Model\n",
    "    "
   ]
  },
  {
   "cell_type": "code",
   "execution_count": null,
   "metadata": {},
   "outputs": [],
   "source": [
    "class Resnet101(Model):\n",
    "    def __init__(self):\n",
    "        with strategy.scope():    \n",
    "            self.Model=tf.keras.Sequential([ResNet101(input_shape=(512, 512, 3),\n",
    "                                                    weights='imagenet',\n",
    "                                                    include_top=False),\n",
    "                                        L.GlobalAveragePooling2D(),\n",
    "                                        L.Dropout(0.2),\n",
    "                                        L.Dense(trainLabels.shape[1],\n",
    "                                                activation='softmax')])\n",
    "        \n",
    "    def getModel(self):\n",
    "        return self.Model\n",
    "    "
   ]
  },
  {
   "cell_type": "code",
   "execution_count": null,
   "metadata": {},
   "outputs": [],
   "source": [
    "class Resnet152(Model):\n",
    "    def __init__(self):\n",
    "        with strategy.scope():    \n",
    "            self.Model=tf.keras.Sequential([ResNet152(input_shape=(512, 512, 3),\n",
    "                                                    weights='imagenet',\n",
    "                                                    include_top=False),\n",
    "                                        L.GlobalAveragePooling2D(),\n",
    "                                        L.Dropout(0.2),\n",
    "                                        L.Dense(trainLabels.shape[1],\n",
    "                                                activation='softmax')])\n",
    "        \n",
    "    def getModel(self):\n",
    "        return self.Model\n",
    "    "
   ]
  },
  {
   "cell_type": "code",
   "execution_count": null,
   "metadata": {},
   "outputs": [],
   "source": [
    "class Resnet50v2(Model):\n",
    "    def __init__(self):\n",
    "        with strategy.scope():    \n",
    "            self.Model=tf.keras.Sequential([ResNet50V2(input_shape=(512, 512, 3),\n",
    "                                                    weights='imagenet',\n",
    "                                                    include_top=False),\n",
    "                                        L.GlobalAveragePooling2D(),\n",
    "                                        L.Dropout(0.2),\n",
    "                                        L.Dense(trainLabels.shape[1],\n",
    "                                                activation='softmax')])\n",
    "        \n",
    "    def getModel(self):\n",
    "        return self.Model\n",
    "    "
   ]
  },
  {
   "cell_type": "code",
   "execution_count": null,
   "metadata": {},
   "outputs": [],
   "source": [
    "class Resnet101v2(Model):\n",
    "    def __init__(self):\n",
    "        with strategy.scope():    \n",
    "            self.Model=tf.keras.Sequential([ResNet101V2(input_shape=(512, 512, 3),\n",
    "                                                    weights='imagenet',\n",
    "                                                    include_top=False),\n",
    "                                        L.GlobalAveragePooling2D(),\n",
    "                                        L.Dropout(0.2),\n",
    "                                        L.Dense(trainLabels.shape[1],\n",
    "                                                activation='softmax')])\n",
    "        \n",
    "    def getModel(self):\n",
    "        return self.Model\n",
    "    "
   ]
  },
  {
   "cell_type": "code",
   "execution_count": null,
   "metadata": {},
   "outputs": [],
   "source": [
    "class Resnet152v2(Model):\n",
    "    def __init__(self):\n",
    "        with strategy.scope():    \n",
    "            self.Model=tf.keras.Sequential([ResNet152V2(input_shape=(512, 512, 3),\n",
    "                                                    weights='imagenet',\n",
    "                                                    include_top=False),\n",
    "                                        L.GlobalAveragePooling2D(),\n",
    "                                        L.Dropout(0.2),\n",
    "                                        L.Dense(trainLabels.shape[1],\n",
    "                                                activation='softmax')])\n",
    "        \n",
    "    def getModel(self):\n",
    "        return self.Model\n",
    "    "
   ]
  },
  {
   "cell_type": "code",
   "execution_count": null,
   "metadata": {},
   "outputs": [],
   "source": [
    "class SGD(Optimizer):\n",
    "    def setSchedules(self,schedules):    \n",
    "        self.Optim=tf.keras.optimizers.SGD(momentum=0.9,learning_rate=schedules)\n",
    "        return self.Optim"
   ]
  },
  {
   "cell_type": "code",
   "execution_count": null,
   "metadata": {},
   "outputs": [],
   "source": [
    "class Adagrad(Optimizer):\n",
    "    def setSchedules(self,schedules):    \n",
    "        self.Optim=tf.keras.optimizers.Adagrad(epsilon=1e-6,learning_rate=schedules)\n",
    "        return self.Optim"
   ]
  },
  {
   "cell_type": "code",
   "execution_count": null,
   "metadata": {},
   "outputs": [],
   "source": [
    "class RMSprop(Optimizer):\n",
    "    def setSchedules(self,schedules):    \n",
    "        self.Optim=tf.keras.optimizers.RMSprop(rho=0.9, epsilon=1e-06,learning_rate=schedules)\n",
    "        return self.Optim\n",
    "    \n",
    "        "
   ]
  },
  {
   "cell_type": "code",
   "execution_count": null,
   "metadata": {},
   "outputs": [],
   "source": [
    "class Adam(Optimizer):\n",
    "    def setSchedules(self,schedules):    \n",
    "        self.Optim=tf.keras.optimizers.Adam(beta_1=0.9, beta_2=0.999,learning_rate=schedules)\n",
    "        return self.Optim"
   ]
  },
  {
   "cell_type": "code",
   "execution_count": null,
   "metadata": {},
   "outputs": [],
   "source": [
    "models={\"Vgg16\":Vgg16(),\"Vgg19\":Vgg19(),\"Resnet50\":Resnet50(),\\\n",
    "        \"Resnet101\":Resnet101(),\"Resnet152\":Resnet152(),\"Resnet50v2\"\\\n",
    "        :Resnet50v2(),\"Resnet101v2\":Resnet101v2(),\"Resnet152v2\":Resnet152v2()}"
   ]
  },
  {
   "cell_type": "code",
   "execution_count": null,
   "metadata": {},
   "outputs": [],
   "source": [
    "optimizers={\"SGD\":SGD(),\"Adagrad\":Adagrad(),\"RMSprop\":RMSprop(),\"Adam\":Adam()}"
   ]
  },
  {
   "cell_type": "code",
   "execution_count": null,
   "metadata": {},
   "outputs": [],
   "source": [
    "learningRateSchedulers={\"CosineDecay\":schedules.CosineDecay(initial_learning_rate=0.001, decay_steps=1000, alpha=0.0)\\\n",
    "                       ,\"CosineDecayRestarts\":schedules.CosineDecayRestarts(initial_learning_rate=0.001, t_mul=2.0,m_mul=1.0,first_decay_steps=1000, alpha=0.001)\\\n",
    "                       ,\"ExponentialDecay\":schedules.ExponentialDecay(initial_learning_rate=0.01,decay_steps=50,decay_rate=0.96,staircase=True)\\\n",
    "                       ,\"InverseTimeDecay\":schedules.InverseTimeDecay(initial_learning_rate = 0.01,decay_steps = 1.0,decay_rate = 0.5)\n",
    "                       }"
   ]
  },
  {
   "cell_type": "code",
   "execution_count": null,
   "metadata": {},
   "outputs": [],
   "source": [
    "combination=Combination()"
   ]
  },
  {
   "cell_type": "code",
   "execution_count": null,
   "metadata": {},
   "outputs": [],
   "source": [
    "def display(training, validation, title,yTitle):     \n",
    "        fig = go.Figure()\n",
    "\n",
    "        fig.add_trace(go.Scatter(x=np.arange(1, 30+1), mode='lines+markers', y=training, marker=dict(color=\"#dc143c\"),name=\"Train\"))\n",
    "\n",
    "        fig.add_trace(\n",
    "            go.Scatter(x=np.arange(1, 30+1), mode='lines+markers', y=validation, marker=dict(color=\"#0080ff\"),\n",
    "                   name=\"Validation\"))\n",
    "\n",
    "        fig.update_layout(title_text=title, yaxis_title=yTitle, xaxis_title=\"Epochs\", template=\"plotly_dark\")\n",
    "        fig.show()"
   ]
  },
  {
   "cell_type": "code",
   "execution_count": null,
   "metadata": {},
   "outputs": [],
   "source": [
    "\n",
    "def performanceCheck():\n",
    "    for modelName,model in models.items():\n",
    "        weights=model.getModel().get_weights()\n",
    "        for optimizerName,optimizer in optimizers.items():\n",
    "            for learningRateSchedulerName,learningRateScheduler in learningRateSchedulers.items():\n",
    "                model.getModel().set_weights(weights)\n",
    "                combination.setModel(model)\n",
    "                combination.setOptimizer(optimizer.setSchedules(learningRateScheduler))\n",
    "                history=combination.onLearning(epochs=30)\n",
    "                trainAcc=history.history['categorical_accuracy']\n",
    "                evalAcc=history.history['val_categorical_accuracy']\n",
    "                trainLoss=history.history['loss']\n",
    "                evalLoss=history.history['val_loss']\n",
    "                title=modelName+\" \"+optimizerName+\" \"+learningRateSchedulerName+\" \"\n",
    "                display(trainAcc,evalAcc,title+\"Accuracy\",\"Accuracy\")\n",
    "                display(trainLoss,evalLoss,title+\"Loss\",\"Loss\")"
   ]
  },
  {
   "cell_type": "code",
   "execution_count": null,
   "metadata": {},
   "outputs": [],
   "source": []
  }
 ],
 "metadata": {
  "kernelspec": {
   "display_name": "Python 3",
   "language": "python",
   "name": "python3"
  },
  "language_info": {
   "codemirror_mode": {
    "name": "ipython",
    "version": 3
   },
   "file_extension": ".py",
   "mimetype": "text/x-python",
   "name": "python",
   "nbconvert_exporter": "python",
   "pygments_lexer": "ipython3",
   "version": "3.8.5"
  }
 },
 "nbformat": 4,
 "nbformat_minor": 4
}
